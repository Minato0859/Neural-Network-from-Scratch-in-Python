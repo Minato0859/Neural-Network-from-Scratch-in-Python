{
 "cells": [
  {
   "attachments": {},
   "cell_type": "markdown",
   "metadata": {},
   "source": [
    "#  A single Neuron"
   ]
  },
  {
   "cell_type": "code",
   "execution_count": 1,
   "metadata": {},
   "outputs": [
    {
     "name": "stdout",
     "output_type": "stream",
     "text": [
      "4.8\n"
     ]
    }
   ],
   "source": [
    "\n",
    "# # modeling a single neuron with 3 inputs\n",
    "\n",
    "inputs = [1.0, 2.0, 3.0, 2.5]\n",
    "weights = [0.2, 0.8, -0.5, 1.0]\n",
    "bias = 2 # 1 bias value per neuron, tunable value not associated with  any input\n",
    "\n",
    "output = (inputs[0]*weights[0] +\n",
    "          inputs[1]*weights[1] +\n",
    "          inputs[2]*weights[2] + \n",
    "          inputs[3]*weights[3] + bias)\n",
    "print(output)\n"
   ]
  },
  {
   "attachments": {},
   "cell_type": "markdown",
   "metadata": {},
   "source": [
    "# A layer of Neurons\n"
   ]
  },
  {
   "cell_type": "code",
   "execution_count": 1,
   "metadata": {},
   "outputs": [
    {
     "name": "stdout",
     "output_type": "stream",
     "text": [
      "[4.8, 1.21, 2.385]\n"
     ]
    }
   ],
   "source": [
    "inputs = [1.0, 2.0, 3.0, 2.5]\n",
    "\n",
    "weights1 = [0.2, 0.8, -0.5, 1.0]\n",
    "weights2 = [0.5, -0.91, 0.26, -0.5]\n",
    "weights3 = [-0.26, -0.27, 0.17, 0.87]\n",
    "\n",
    "bias1 = 2\n",
    "bias2 = 3\n",
    "bias3 = 0.5\n",
    "\n",
    "outputs = [\n",
    "        # Neuron 1:\n",
    "          inputs[0]*weights1[0] +\n",
    "          inputs[1]*weights1[1] +\n",
    "          inputs[2]*weights1[2] + \n",
    "          inputs[3]*weights1[3] + bias1,\n",
    "          \n",
    "        # Neuron 2:\n",
    "          inputs[0]*weights2[0] +\n",
    "          inputs[1]*weights2[1] +\n",
    "          inputs[2]*weights2[2] + \n",
    "          inputs[3]*weights2[3] + bias2,\n",
    "          \n",
    "        # Neuron 3:\n",
    "          inputs[0]*weights3[0] +\n",
    "          inputs[1]*weights3[1] +\n",
    "          inputs[2]*weights3[2] + \n",
    "          inputs[3]*weights3[3] + bias3]\n",
    "\n",
    "print(outputs)\n"
   ]
  },
  {
   "cell_type": "code",
   "execution_count": 2,
   "metadata": {},
   "outputs": [
    {
     "name": "stdout",
     "output_type": "stream",
     "text": [
      "[4.8, 1.21, 2.385]\n"
     ]
    }
   ],
   "source": [
    "#  Loop to scale and and handle dynamically-sized inputs and layers\n",
    "\n",
    "inputs = [1.0, 2.0, 3.0, 2.5]\n",
    "\n",
    "weights = [[0.2, 0.8, -0.5, 1.0],\n",
    "           [0.5, -0.91, 0.26, -0.5],\n",
    "           [-0.26, -0.27, 0.17, 0.87]]\n",
    "\n",
    "biases = [2, 3, 0.5]\n",
    "\n",
    "\n",
    "# output of current layer\n",
    "layer_outputs = []\n",
    "\n",
    "# For each neuron(3), 3 elements inside the weights list, and 3 biases...\n",
    "for neuron_weights, neuron_bias in zip(weights, biases):\n",
    "    # initialize Neuron output to zero\n",
    "    neuron_output = 0\n",
    "    # ...for each of neuron take each element from each set of weights of the weights list and each input from the input list\n",
    "    for n_input, weight in zip(inputs, neuron_weights):\n",
    "        # multiply input by associated weight\n",
    "        # & add them all under neuron's output variable\n",
    "        neuron_output += n_input*weight\n",
    "    # add bias ONCE\n",
    "    neuron_output += neuron_bias\n",
    "    # Put neuron's result to the layer's output list\n",
    "    layer_outputs.append(neuron_output)\n",
    "    \n",
    "print(layer_outputs)\n",
    "        "
   ]
  },
  {
   "attachments": {},
   "cell_type": "markdown",
   "metadata": {},
   "source": [
    "# Tensors, Arrays and Vectors \n",
    "\n"
   ]
  },
  {
   "cell_type": "code",
   "execution_count": null,
   "metadata": {},
   "outputs": [],
   "source": [
    "# "
   ]
  }
 ],
 "metadata": {
  "kernelspec": {
   "display_name": "Python 3",
   "language": "python",
   "name": "python3"
  },
  "language_info": {
   "codemirror_mode": {
    "name": "ipython",
    "version": 3
   },
   "file_extension": ".py",
   "mimetype": "text/x-python",
   "name": "python",
   "nbconvert_exporter": "python",
   "pygments_lexer": "ipython3",
   "version": "3.10.4"
  },
  "orig_nbformat": 4
 },
 "nbformat": 4,
 "nbformat_minor": 2
}
