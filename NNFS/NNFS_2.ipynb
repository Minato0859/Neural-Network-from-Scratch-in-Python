{
 "cells": [
  {
   "attachments": {},
   "cell_type": "markdown",
   "metadata": {},
   "source": [
    "#  A single Neuron"
   ]
  },
  {
   "cell_type": "code",
   "execution_count": 1,
   "metadata": {},
   "outputs": [
    {
     "name": "stdout",
     "output_type": "stream",
     "text": [
      "4.8\n"
     ]
    }
   ],
   "source": [
    "\n",
    "# # modeling a single neuron with 3 inputs\n",
    "\n",
    "inputs = [1.0, 2.0, 3.0, 2.5]\n",
    "weights = [0.2, 0.8, -0.5, 1.0]\n",
    "bias = 2 # 1 bias value per neuron, tunable value not associated with  any input\n",
    "\n",
    "output = (inputs[0]*weights[0] +\n",
    "          inputs[1]*weights[1] +\n",
    "          inputs[2]*weights[2] + \n",
    "          inputs[3]*weights[3] + bias)\n",
    "print(output)\n"
   ]
  },
  {
   "attachments": {},
   "cell_type": "markdown",
   "metadata": {},
   "source": [
    "# A layer of Neurons\n"
   ]
  },
  {
   "cell_type": "code",
   "execution_count": 1,
   "metadata": {},
   "outputs": [
    {
     "name": "stdout",
     "output_type": "stream",
     "text": [
      "[4.8, 1.21, 2.385]\n"
     ]
    }
   ],
   "source": [
    "inputs = [1.0, 2.0, 3.0, 2.5]\n",
    "\n",
    "weights1 = [0.2, 0.8, -0.5, 1.0]\n",
    "weights2 = [0.5, -0.91, 0.26, -0.5]\n",
    "weights3 = [-0.26, -0.27, 0.17, 0.87]\n",
    "\n",
    "bias1 = 2\n",
    "bias2 = 3\n",
    "bias3 = 0.5\n",
    "\n",
    "outputs = [\n",
    "        # Neuron 1:\n",
    "          inputs[0]*weights1[0] +\n",
    "          inputs[1]*weights1[1] +\n",
    "          inputs[2]*weights1[2] + \n",
    "          inputs[3]*weights1[3] + bias1,\n",
    "          \n",
    "        # Neuron 2:\n",
    "          inputs[0]*weights2[0] +\n",
    "          inputs[1]*weights2[1] +\n",
    "          inputs[2]*weights2[2] + \n",
    "          inputs[3]*weights2[3] + bias2,\n",
    "          \n",
    "        # Neuron 3:\n",
    "          inputs[0]*weights3[0] +\n",
    "          inputs[1]*weights3[1] +\n",
    "          inputs[2]*weights3[2] + \n",
    "          inputs[3]*weights3[3] + bias3]\n",
    "\n",
    "print(outputs)\n"
   ]
  },
  {
   "cell_type": "code",
   "execution_count": 2,
   "metadata": {},
   "outputs": [
    {
     "name": "stdout",
     "output_type": "stream",
     "text": [
      "[4.8, 1.21, 2.385]\n"
     ]
    }
   ],
   "source": [
    "#  Loop to scale and and handle dynamically-sized inputs and layers\n",
    "\n",
    "inputs = [1.0, 2.0, 3.0, 2.5]\n",
    "\n",
    "weights = [[0.2, 0.8, -0.5, 1.0],\n",
    "           [0.5, -0.91, 0.26, -0.5],\n",
    "           [-0.26, -0.27, 0.17, 0.87]]\n",
    "\n",
    "biases = [2, 3, 0.5]\n",
    "\n",
    "\n",
    "# output of current layer\n",
    "layer_outputs = []\n",
    "\n",
    "# For each neuron(3), 3 elements inside the weights list, and 3 biases...\n",
    "for neuron_weights, neuron_bias in zip(weights, biases):\n",
    "    # initialize Neuron output to zero\n",
    "    neuron_output = 0\n",
    "    # ...for each of neuron take each element from each set of weights of the weights list and each input from the input list\n",
    "    for n_input, weight in zip(inputs, neuron_weights):\n",
    "        # multiply input by associated weight\n",
    "        # & add them all under neuron's output variable\n",
    "        neuron_output += n_input*weight\n",
    "    # add bias ONCE\n",
    "    neuron_output += neuron_bias\n",
    "    # Put neuron's result to the layer's output list\n",
    "    layer_outputs.append(neuron_output)\n",
    "    \n",
    "print(layer_outputs)\n",
    "        "
   ]
  },
  {
   "attachments": {},
   "cell_type": "markdown",
   "metadata": {},
   "source": [
    "# Tensors, Arrays and Vectors \n",
    "\n"
   ]
  },
  {
   "attachments": {},
   "cell_type": "markdown",
   "metadata": {},
   "source": [
    "Indices refer to how many numbers are required to access an element of the ndTensor\n",
    "\n",
    "Indexes required\tComputer science\tMathematics\n",
    "     0              number\t            scalar\n",
    "     1              array\t            vector\n",
    "     2              2d-array\t        matrix\n",
    "\n",
    "\n",
    "A scalar is a 0 dimensional tensor\n",
    "A vector is a 1 dimensional tensor\n",
    "A matrix is a 2 dimensional tensor\n",
    "A nd-array is an n dimensional tensor   "
   ]
  },
  {
   "cell_type": "code",
   "execution_count": 2,
   "metadata": {},
   "outputs": [],
   "source": [
    "# Simple List\n",
    "\n",
    "l = [1, 5, 6, 2]\n",
    "\n",
    "\n",
    "# Lists of lists\n",
    "\n",
    "lol = [[1, 5, 6, 2],\n",
    "       [3, 2, 1, 3]]\n",
    "\n",
    "\n",
    "# Lists of lists\n",
    "\n",
    "lolol = [ \n",
    "          [[1, 5, 6, 2],\n",
    "          [3, 2, 1, 3]],\n",
    "        \n",
    "         [[1, 5, 6, 2],\n",
    "          [3, 2, 1, 3]],\n",
    "          \n",
    "          [[1, 5, 6, 2],\n",
    "          [3, 2, 1, 3]] \n",
    "                        ]\n"
   ]
  },
  {
   "attachments": {},
   "cell_type": "markdown",
   "metadata": {},
   "source": [
    "# Dot Product and Vector Addition"
   ]
  },
  {
   "attachments": {},
   "cell_type": "markdown",
   "metadata": {},
   "source": [
    "a⋅b=a1b1+a2b2"
   ]
  },
  {
   "cell_type": "code",
   "execution_count": 3,
   "metadata": {},
   "outputs": [
    {
     "name": "stdout",
     "output_type": "stream",
     "text": [
      "20\n"
     ]
    }
   ],
   "source": [
    "a= [1, 2, 3]\n",
    "b= [2, 3, 4]\n",
    "\n",
    "dot_product = a[0]*b[0] + a[1]*b[1] + a[2]*b[2] \n",
    "print(dot_product)\n"
   ]
  },
  {
   "attachments": {},
   "cell_type": "markdown",
   "metadata": {},
   "source": [
    "# A Single Nueron with NumPy\n",
    "\n"
   ]
  },
  {
   "cell_type": "code",
   "execution_count": 4,
   "metadata": {},
   "outputs": [
    {
     "name": "stdout",
     "output_type": "stream",
     "text": [
      "4.8\n"
     ]
    }
   ],
   "source": [
    "import numpy as np\n",
    "\n",
    "inputs = [1.0, 2.0, 3.0, 2.5]\n",
    "weights = [0.2, 0.8, -0.5, 1.0]\n",
    "bias = 2.0\n",
    "\n",
    "outputs = np.dot(weights, inputs) + bias\n",
    "\n",
    "print(outputs)"
   ]
  },
  {
   "attachments": {},
   "cell_type": "markdown",
   "metadata": {},
   "source": [
    "# A Layer of Neurons with NumPy\n",
    "\n"
   ]
  },
  {
   "cell_type": "code",
   "execution_count": 5,
   "metadata": {},
   "outputs": [
    {
     "name": "stdout",
     "output_type": "stream",
     "text": [
      "[4.8   1.21  2.385]\n"
     ]
    }
   ],
   "source": [
    "import numpy as np\n",
    "\n",
    "inputs = [1.0, 2.0, 3.0, 2.5]\n",
    "weights = [[0.2, 0.8, -0.5, 1],\n",
    "           [0.5, -0.91, 0.26, -0.5],\n",
    "           [-0.26, -0.27, 0.17, 0.87]]\n",
    "\n",
    "biases = [2.0, 3.0, 0.5]\n",
    "\n",
    "layer_outputs = np.dot(weights, inputs) + biases\n",
    "\n",
    "print(layer_outputs)"
   ]
  },
  {
   "attachments": {},
   "cell_type": "markdown",
   "metadata": {},
   "source": [
    "# A Batch of Data"
   ]
  },
  {
   "attachments": {},
   "cell_type": "markdown",
   "metadata": {},
   "source": [
    "untill now we have been using input data which is only one sample/observation of various features called a feature set\n",
    "\n",
    "inputs = [1, 2, 3, 2.5] \n",
    "shape : (4, )\n",
    "type : 1D, Vector\n",
    "\n",
    "together they form a feature set instance, also called an observation, or most commonly known as a sample\n",
    "\n",
    "often nueral networks expect to take in many samples at a time for 2 reasons:\n",
    "1. faster to train in batches in parallel processing \n",
    "2. batches help with generalization during training\n",
    "\n",
    "example of batch data : \n",
    "\n",
    "inputs = [[0, 2, 3, 2.5],\n",
    "          [1, 0, 3, 2.5],\n",
    "          [1, 2, 0, 2.5],\n",
    "          [1, 2, 3, 0]] \n",
    "shape : (4, 4)\n",
    "type : 2D Array, Matrix"
   ]
  },
  {
   "attachments": {},
   "cell_type": "markdown",
   "metadata": {},
   "source": [
    "# Matrix Product"
   ]
  },
  {
   "attachments": {},
   "cell_type": "markdown",
   "metadata": {},
   "source": [
    "lists of lists can be made into arrays if homolofous, but they would contain now multiple batches of training data(rows)\n",
    "\n",
    "\n",
    "    "
   ]
  },
  {
   "cell_type": "code",
   "execution_count": 7,
   "metadata": {},
   "outputs": [],
   "source": [
    "# a = [1 2 3]\n",
    "\n",
    "# b = [2]\n",
    "#     [3]\n",
    "#     [4]\n",
    "#             [2]\n",
    "# ab = [1 2 3][3] = [20]\n",
    "#             [4]"
   ]
  },
  {
   "attachments": {},
   "cell_type": "markdown",
   "metadata": {},
   "source": [
    " row and column vectors are matrices with one of their dimensions being of a size\n",
    "of 1; and, we perform the matrix product on them instead of the dot product, which results in\n",
    "a matrix containing a single value. In this case, we performed a matrix multiplication of matrices\n",
    "with shapes (1, 3) and (3, 1), then the resulting array has the shape (1, 1) or a size of 1x1."
   ]
  },
  {
   "attachments": {},
   "cell_type": "markdown",
   "metadata": {},
   "source": [
    "# Transposition for the Matrix Product"
   ]
  },
  {
   "attachments": {},
   "cell_type": "markdown",
   "metadata": {},
   "source": [
    "Transpostion modifies a matrix in a way that its rows become columns and columns become rows\n",
    "\n",
    "A row vector is a matrix whos first dimension's (rows) size=1 and the second dimension's size(columns)=n. i.e 1xn array or array of shape (1, n)"
   ]
  },
  {
   "cell_type": "code",
   "execution_count": 8,
   "metadata": {},
   "outputs": [
    {
     "data": {
      "text/plain": [
       "array([[1, 2, 3]])"
      ]
     },
     "execution_count": 8,
     "metadata": {},
     "output_type": "execute_result"
    }
   ],
   "source": [
    "np.array([[1, 2, 3]])"
   ]
  },
  {
   "cell_type": "code",
   "execution_count": 9,
   "metadata": {},
   "outputs": [
    {
     "name": "stdout",
     "output_type": "stream",
     "text": [
      "[[1 2 3]]\n"
     ]
    }
   ],
   "source": [
    "a = [1, 2, 3]\n",
    "print(np.array([a]))"
   ]
  },
  {
   "cell_type": "code",
   "execution_count": 12,
   "metadata": {},
   "outputs": [
    {
     "name": "stdout",
     "output_type": "stream",
     "text": [
      "[[1 2 3]]\n"
     ]
    }
   ],
   "source": [
    "# equivilent\n",
    "\n",
    "a = [1, 2, 3]\n",
    "print(np.expand_dims(np.array(a), axis=0))"
   ]
  },
  {
   "attachments": {},
   "cell_type": "markdown",
   "metadata": {},
   "source": [
    "    Everytime we are transforming a list into matrix by adding a new dimension at the idex of the axis"
   ]
  },
  {
   "attachments": {},
   "cell_type": "markdown",
   "metadata": {},
   "source": [
    "A column vector is a matrix where the second dimension's size(columns)=n. i.e nx1 array or array of shape (n, 1)\n",
    "\n",
    "before calculating the dot product, the matrix b in a*b must be :\n",
    "1. turned into a row vecotr(increase the dimension)\n",
    "2. Transpose b from a row vector into a column vector\n"
   ]
  },
  {
   "cell_type": "code",
   "execution_count": 13,
   "metadata": {},
   "outputs": [
    {
     "name": "stdout",
     "output_type": "stream",
     "text": [
      "[[20]]\n"
     ]
    }
   ],
   "source": [
    "import numpy as np\n",
    "\n",
    "a = [1, 2, 3]\n",
    "b = [2, 3, 4]\n",
    "\n",
    "a = np.array([a])\n",
    "b = np.array([b]).T\n",
    "\n",
    "print(np.dot(a, b))\n"
   ]
  },
  {
   "attachments": {},
   "cell_type": "markdown",
   "metadata": {},
   "source": [
    "To perform a matrix product on two vectors, we took one as is, transforming it into\n",
    "a row vector, and the second one using transposition on it to turn it into a column vector. That\n",
    "allowed us to perform a matrix product that returned a matrix containing a single value. We also\n",
    "performed the matrix product on two example arrays to learn how a matrix product works — it\n",
    "creates a matrix of dot products of all combinations of row and column vectors."
   ]
  },
  {
   "attachments": {},
   "cell_type": "markdown",
   "metadata": {},
   "source": [
    "# A Layer of Neurons & Batch of Data with NumPy"
   ]
  },
  {
   "cell_type": "markdown",
   "metadata": {},
   "source": []
  },
  {
   "cell_type": "code",
   "execution_count": 14,
   "metadata": {},
   "outputs": [],
   "source": [
    "inputs = [[1.0, 2.0, 3.0, 2.5],\n",
    "          [2.0, 5.0, -1.0, 2.0],\n",
    "          [-1.5, 2.7, 3.3, -0.8]]\n",
    "weights = [[0.2, 0.8, -0.5, 1.0],\n",
    "           [0.5, -0.91, 0.26, -0.5],\n",
    "           [-0.26, -0.27, 0.17, 0.87]]"
   ]
  },
  {
   "attachments": {},
   "cell_type": "markdown",
   "metadata": {},
   "source": [
    "The Matrix product takes all the of the combinations of rows from the left matrix and columns from the right matrixm performing the dot product on them and placing the results in an output array. In order to perform the matrix product the shape's value from the index 1 (columns) of the first matrix and the index 0 (rows) of the second matrix must match.\n",
    "They dont right now"
   ]
  },
  {
   "cell_type": "code",
   "execution_count": 19,
   "metadata": {},
   "outputs": [
    {
     "name": "stdout",
     "output_type": "stream",
     "text": [
      "[[ 4.8    1.21   2.385]\n",
      " [ 8.9   -1.81   0.2  ]\n",
      " [ 1.41   1.051  0.026]]\n"
     ]
    }
   ],
   "source": [
    "inputs = [[1.0, 2.0, 3.0, 2.5],\n",
    "          [2.0, 5.0, -1.0, 2.0],\n",
    "          [-1.5, 2.7, 3.3, -0.8]]\n",
    "weights = [[0.2, 0.8, -0.5, 1.0],\n",
    "           [0.5, -0.91, 0.26, -0.5],\n",
    "           [-0.26, -0.27, 0.17, 0.87]]\n",
    "biases = [2.0, 3.0, 0.5]\n",
    "\n",
    "layer_outputs = np.dot(inputs, np.array(weights).T) + biases\n",
    "\n",
    "print(layer_outputs)"
   ]
  },
  {
   "attachments": {},
   "cell_type": "markdown",
   "metadata": {},
   "source": [
    "    The output is a list of predictions"
   ]
  }
 ],
 "metadata": {
  "kernelspec": {
   "display_name": "Python 3",
   "language": "python",
   "name": "python3"
  },
  "language_info": {
   "codemirror_mode": {
    "name": "ipython",
    "version": 3
   },
   "file_extension": ".py",
   "mimetype": "text/x-python",
   "name": "python",
   "nbconvert_exporter": "python",
   "pygments_lexer": "ipython3",
   "version": "3.10.4"
  },
  "orig_nbformat": 4
 },
 "nbformat": 4,
 "nbformat_minor": 2
}
